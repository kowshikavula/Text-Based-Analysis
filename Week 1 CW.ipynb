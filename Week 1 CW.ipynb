{
 "cells": [
  {
   "cell_type": "code",
   "execution_count": 12,
   "id": "ac12fee5-2c53-48f9-acee-645325887fb8",
   "metadata": {},
   "outputs": [
    {
     "name": "stdout",
     "output_type": "stream",
     "text": [
      "Hello\n"
     ]
    }
   ],
   "source": [
    "# Assigning the string \"Hello\" to the variable 'a'.\n",
    "a = \"Hello\"\n",
    "\n",
    "# Printing the value stored in the variable 'a'.\n",
    "print(a)\n",
    "\n"
   ]
  },
  {
   "cell_type": "code",
   "execution_count": 13,
   "id": "d57c5cbc-4052-466e-ab65-6d7a17da6800",
   "metadata": {},
   "outputs": [
    {
     "name": "stdout",
     "output_type": "stream",
     "text": [
      "e\n"
     ]
    }
   ],
   "source": [
    "# Assigning the string \"Hello, World!\" to the variable 'a'.\n",
    "a = \"Hello, World!\"\n",
    "\n",
    "# Printing the character at index 1 of the string stored in the variable 'a'.\n",
    "print(a[1])  \n"
   ]
  },
  {
   "cell_type": "code",
   "execution_count": 14,
   "id": "1949e952-f0ed-4daa-8455-2518b8fa31b3",
   "metadata": {},
   "outputs": [
    {
     "name": "stdout",
     "output_type": "stream",
     "text": [
      "llo\n"
     ]
    }
   ],
   "source": [
    "# Assigning the string \"Hello, World!\" to the variable 'b'.\n",
    "b = \"Hello, World!\" \n",
    "\n",
    "# Printing a substring of the string stored in the variable 'b', starting from index 2 (inclusive) \n",
    "# and ending at index 5 (exclusive).\n",
    "print(b[2:5])   \n"
   ]
  },
  {
   "cell_type": "code",
   "execution_count": 15,
   "id": "ef9f4bf2-17ee-4d6e-b869-83cfec6a9f66",
   "metadata": {},
   "outputs": [
    {
     "name": "stdout",
     "output_type": "stream",
     "text": [
      "e\n",
      "llo\n"
     ]
    }
   ],
   "source": [
    "# Assigning the string \"Hello, World!\" to the variable 'a'.\n",
    "a = \"Hello, World!\"\n",
    "\n",
    "# Printing the character at index 1 of the string stored in the variable 'a'.\n",
    "print(a[1]) \n",
    "\n",
    "# Assigning the string \"Hello, World!\" to the variable 'b'.\n",
    "b = \"Hello, World!\"\n",
    "\n",
    "# Printing a substring of the string stored in the variable 'b', starting from index 2 (inclusive) \n",
    "# and ending at index 5 (exclusive).\n",
    "print(b[2:5]) \n"
   ]
  },
  {
   "cell_type": "code",
   "execution_count": 5,
   "id": "7a875db5-96a0-4a4c-a191-a73e348c331d",
   "metadata": {},
   "outputs": [
    {
     "name": "stdout",
     "output_type": "stream",
     "text": [
      "13\n",
      "HELLO, WORLD!\n",
      "hello, world!\n",
      "Jello, World!\n"
     ]
    }
   ],
   "source": [
    "# Declaring a string \"Hello, World!\" and assigning it to the variable 'a'.\n",
    "a = \"Hello, World!\"\n",
    "\n",
    "# Printing the length of the string stored in the variable 'a'.\n",
    "print(len(a))\n",
    "\n",
    "# Converting all characters in the string stored in the variable 'a' to uppercase and printing the result.\n",
    "print(a.upper())\n",
    "\n",
    "# Converting all characters in the string stored in the variable 'a' to lowercase and printing the result.\n",
    "print(a.lower())\n",
    "\n",
    "# Replacing all occurrences of the character \"H\" with \"J\" in the string stored in the variable 'a' and printing the result.\n",
    "print(a.replace(\"H\", \"J\"))\n"
   ]
  },
  {
   "cell_type": "code",
   "execution_count": 16,
   "id": "e0aad8c6-5d1c-448c-9dcd-460ab6d1722d",
   "metadata": {},
   "outputs": [
    {
     "name": "stdout",
     "output_type": "stream",
     "text": [
      "Hello World\n"
     ]
    }
   ],
   "source": [
    "# Declaring a string \"Hello\" and assigning it to the variable 'a'.\n",
    "a = \"Hello\"\n",
    "\n",
    "# Declaring a string \"World\" and assigning it to the variable 'b'.\n",
    "b = \"World\"\n",
    "\n",
    "# Concatenating the strings stored in variables 'a' and 'b' along with a space in between,\n",
    "# and assigning the result to the variable 'c'.\n",
    "c = a + \" \" + b\n",
    "\n",
    "# Printing the concatenated string stored in the variable 'c'.\n",
    "print(c)\n"
   ]
  },
  {
   "cell_type": "code",
   "execution_count": 17,
   "id": "95dda86e-9a52-4a7e-a2e7-23d43940c9ff",
   "metadata": {},
   "outputs": [
    {
     "name": "stdout",
     "output_type": "stream",
     "text": [
      "['One', 'two', 'three', 'four']\n"
     ]
    }
   ],
   "source": [
    "# Defining a string 'my_string' containing the phrase \"One two three four\".\n",
    "my_string = 'One two three four'\n",
    "\n",
    "# Using the split() method on the string 'my_string' to split it into a list of words,\n",
    "# separated by whitespace by default, and assigning the result to the list 'word_list'.\n",
    "word_list = my_string.split()\n",
    "\n",
    "# Printing the list 'word_list' which contains the words from the original string 'my_string'.\n",
    "print(word_list)\n"
   ]
  },
  {
   "cell_type": "code",
   "execution_count": 9,
   "id": "8578d0c6-2ea1-4b56-8f95-45cc17523e3d",
   "metadata": {},
   "outputs": [
    {
     "data": {
      "text/plain": [
       "['1', '2', '3', '4', '5']"
      ]
     },
     "execution_count": 9,
     "metadata": {},
     "output_type": "execute_result"
    }
   ],
   "source": [
    "# Defining a string 'my_string' containing the sequence of numbers separated by slashes.\n",
    "my_string = '1/2/3/4/5'\n",
    "\n",
    "# Using the split('/') method on the string 'my_string' to split it into a list of numbers,\n",
    "# using '/' as the delimiter, and assigning the result to the list 'number_list'.\n",
    "number_list = my_string.split('/')\n",
    "\n",
    "# Printing the list 'number_list' which contains the numbers extracted from the original string 'my_string'.\n",
    "print(number_list)\n"
   ]
  },
  {
   "cell_type": "code",
   "execution_count": 19,
   "id": "7135d59e-5c39-4a1b-8e42-e58036742b2d",
   "metadata": {},
   "outputs": [
    {
     "name": "stdout",
     "output_type": "stream",
     "text": [
      "['peach', 'raspberry', 'strawberry', 'vanilla']\n"
     ]
    }
   ],
   "source": [
    "# Defining a string 'str' containing the names of fruits and flavors separated by spaces.\n",
    "str = 'peach raspberry strawberry vanilla'\n",
    "\n",
    "# Using the split() method on the string 'str' to split it into a list of tokens,\n",
    "# with each token representing a word, and assigning the result to the list 'tokens'.\n",
    "tokens = str.split()\n",
    "\n",
    "# Printing the list 'tokens' which contains the individual words extracted from the original string 'str'.\n",
    "print(tokens)\n"
   ]
  },
  {
   "cell_type": "code",
   "execution_count": 20,
   "id": "3c89a258-42fc-4d23-9aaa-b6f936ee92b2",
   "metadata": {},
   "outputs": [
    {
     "name": "stdout",
     "output_type": "stream",
     "text": [
      "['www', 'example', 'com']\n"
     ]
    }
   ],
   "source": [
    "# Defining a string 'my_address' containing a website address.\n",
    "my_address = 'www.example.com'\n",
    "\n",
    "# Using the split('.') method on the string 'my_address' to split it into a list of tokens,\n",
    "# using '.' as the delimiter, and assigning the result to the list 'tokens'.\n",
    "tokens = my_address.split('.')\n",
    "\n",
    "# Printing the list 'tokens' which contains the individual components of the website address.\n",
    "print(tokens)\n"
   ]
  },
  {
   "cell_type": "code",
   "execution_count": null,
   "id": "5266e8f3-3a22-49c4-8f66-95b3d307d55c",
   "metadata": {},
   "outputs": [],
   "source": []
  }
 ],
 "metadata": {
  "kernelspec": {
   "display_name": "Python 3 (ipykernel)",
   "language": "python",
   "name": "python3"
  },
  "language_info": {
   "codemirror_mode": {
    "name": "ipython",
    "version": 3
   },
   "file_extension": ".py",
   "mimetype": "text/x-python",
   "name": "python",
   "nbconvert_exporter": "python",
   "pygments_lexer": "ipython3",
   "version": "3.11.5"
  }
 },
 "nbformat": 4,
 "nbformat_minor": 5
}
