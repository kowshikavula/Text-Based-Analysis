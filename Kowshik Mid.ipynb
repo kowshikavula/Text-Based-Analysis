{
 "cells": [
  {
   "cell_type": "markdown",
   "id": "7910e766",
   "metadata": {},
   "source": [
    "# Installing Pandas using pip"
   ]
  },
  {
   "cell_type": "code",
   "execution_count": 1,
   "id": "385b8880",
   "metadata": {},
   "outputs": [
    {
     "name": "stdout",
     "output_type": "stream",
     "text": [
      "Requirement already satisfied: pandas in /Users/srijanagella/anaconda3/lib/python3.11/site-packages (2.0.3)\n",
      "Requirement already satisfied: python-dateutil>=2.8.2 in /Users/srijanagella/anaconda3/lib/python3.11/site-packages (from pandas) (2.8.2)\n",
      "Requirement already satisfied: pytz>=2020.1 in /Users/srijanagella/anaconda3/lib/python3.11/site-packages (from pandas) (2023.3.post1)\n",
      "Requirement already satisfied: tzdata>=2022.1 in /Users/srijanagella/anaconda3/lib/python3.11/site-packages (from pandas) (2023.3)\n",
      "Requirement already satisfied: numpy>=1.21.0 in /Users/srijanagella/anaconda3/lib/python3.11/site-packages (from pandas) (1.24.3)\n",
      "Requirement already satisfied: six>=1.5 in /Users/srijanagella/anaconda3/lib/python3.11/site-packages (from python-dateutil>=2.8.2->pandas) (1.16.0)\n",
      "Note: you may need to restart the kernel to use updated packages.\n"
     ]
    }
   ],
   "source": [
    "pip install pandas  #Install Pandas using pip"
   ]
  },
  {
   "cell_type": "markdown",
   "id": "1594de13",
   "metadata": {},
   "source": [
    "# Reading CSV File into Pandas DataFrame"
   ]
  },
  {
   "cell_type": "code",
   "execution_count": 4,
   "id": "ba36740f",
   "metadata": {},
   "outputs": [],
   "source": [
    "import pandas as pd  #import pandas alias pd\n",
    "df = pd.read_csv('/Users/srijanagella/Documents/books_data.csv') # Read the CSV file into a DataFrame, replace the path with your correct path"
   ]
  },
  {
   "cell_type": "markdown",
   "id": "f81a1d55",
   "metadata": {},
   "source": [
    "# Displaying the First 20 Rows of a DataFrame"
   ]
  },
  {
   "cell_type": "code",
   "execution_count": 5,
   "id": "c3aef179",
   "metadata": {},
   "outputs": [
    {
     "data": {
      "text/html": [
       "<div>\n",
       "<style scoped>\n",
       "    .dataframe tbody tr th:only-of-type {\n",
       "        vertical-align: middle;\n",
       "    }\n",
       "\n",
       "    .dataframe tbody tr th {\n",
       "        vertical-align: top;\n",
       "    }\n",
       "\n",
       "    .dataframe thead th {\n",
       "        text-align: right;\n",
       "    }\n",
       "</style>\n",
       "<table border=\"1\" class=\"dataframe\">\n",
       "  <thead>\n",
       "    <tr style=\"text-align: right;\">\n",
       "      <th></th>\n",
       "      <th>Unnamed: 0</th>\n",
       "      <th>Books</th>\n",
       "      <th>Authors</th>\n",
       "      <th>Language</th>\n",
       "      <th>First_Published</th>\n",
       "      <th>Sales_in_millions</th>\n",
       "    </tr>\n",
       "  </thead>\n",
       "  <tbody>\n",
       "    <tr>\n",
       "      <th>0</th>\n",
       "      <td>0</td>\n",
       "      <td>A Tale of Two Cities</td>\n",
       "      <td>Charles Dickens</td>\n",
       "      <td>English</td>\n",
       "      <td>1859</td>\n",
       "      <td>200.0</td>\n",
       "    </tr>\n",
       "    <tr>\n",
       "      <th>1</th>\n",
       "      <td>1</td>\n",
       "      <td>The Little Prince (Le Petit Prince)</td>\n",
       "      <td>Antoine de Saint-Exupéry</td>\n",
       "      <td>French</td>\n",
       "      <td>1943</td>\n",
       "      <td>200.0</td>\n",
       "    </tr>\n",
       "    <tr>\n",
       "      <th>2</th>\n",
       "      <td>2</td>\n",
       "      <td>Harry Potter and the Philosopher's Stone</td>\n",
       "      <td>J. K. Rowling</td>\n",
       "      <td>English</td>\n",
       "      <td>1997</td>\n",
       "      <td>120.0</td>\n",
       "    </tr>\n",
       "    <tr>\n",
       "      <th>3</th>\n",
       "      <td>3</td>\n",
       "      <td>And Then There Were None</td>\n",
       "      <td>Agatha Christie</td>\n",
       "      <td>English</td>\n",
       "      <td>1939</td>\n",
       "      <td>100.0</td>\n",
       "    </tr>\n",
       "    <tr>\n",
       "      <th>4</th>\n",
       "      <td>4</td>\n",
       "      <td>Dream of the Red Chamber (紅樓夢)</td>\n",
       "      <td>Cao Xueqin</td>\n",
       "      <td>Chinese</td>\n",
       "      <td>1791</td>\n",
       "      <td>100.0</td>\n",
       "    </tr>\n",
       "    <tr>\n",
       "      <th>5</th>\n",
       "      <td>5</td>\n",
       "      <td>The Hobbit</td>\n",
       "      <td>J. R. R. Tolkien</td>\n",
       "      <td>English</td>\n",
       "      <td>1937</td>\n",
       "      <td>100.0</td>\n",
       "    </tr>\n",
       "    <tr>\n",
       "      <th>6</th>\n",
       "      <td>6</td>\n",
       "      <td>She: A History of Adventure</td>\n",
       "      <td>H. Rider Haggard</td>\n",
       "      <td>English</td>\n",
       "      <td>1887</td>\n",
       "      <td>83.0</td>\n",
       "    </tr>\n",
       "    <tr>\n",
       "      <th>7</th>\n",
       "      <td>7</td>\n",
       "      <td>The Da Vinci Code</td>\n",
       "      <td>Dan Brown</td>\n",
       "      <td>English</td>\n",
       "      <td>2003</td>\n",
       "      <td>80.0</td>\n",
       "    </tr>\n",
       "    <tr>\n",
       "      <th>8</th>\n",
       "      <td>8</td>\n",
       "      <td>Harry Potter and the Chamber of Secrets</td>\n",
       "      <td>J. K. Rowling</td>\n",
       "      <td>English</td>\n",
       "      <td>1998</td>\n",
       "      <td>77.0</td>\n",
       "    </tr>\n",
       "    <tr>\n",
       "      <th>9</th>\n",
       "      <td>9</td>\n",
       "      <td>Harry Potter and the Prisoner of Azkaban</td>\n",
       "      <td>J. K. Rowling</td>\n",
       "      <td>English</td>\n",
       "      <td>1999</td>\n",
       "      <td>65.0</td>\n",
       "    </tr>\n",
       "    <tr>\n",
       "      <th>10</th>\n",
       "      <td>10</td>\n",
       "      <td>Harry Potter and the Goblet of Fire</td>\n",
       "      <td>J. K. Rowling</td>\n",
       "      <td>English</td>\n",
       "      <td>2000</td>\n",
       "      <td>65.0</td>\n",
       "    </tr>\n",
       "    <tr>\n",
       "      <th>11</th>\n",
       "      <td>11</td>\n",
       "      <td>Harry Potter and the Order of the Phoenix</td>\n",
       "      <td>J. K. Rowling</td>\n",
       "      <td>English</td>\n",
       "      <td>2003</td>\n",
       "      <td>65.0</td>\n",
       "    </tr>\n",
       "    <tr>\n",
       "      <th>12</th>\n",
       "      <td>12</td>\n",
       "      <td>Harry Potter and the Half-Blood Prince</td>\n",
       "      <td>J. K. Rowling</td>\n",
       "      <td>English</td>\n",
       "      <td>2005</td>\n",
       "      <td>65.0</td>\n",
       "    </tr>\n",
       "    <tr>\n",
       "      <th>13</th>\n",
       "      <td>13</td>\n",
       "      <td>Harry Potter and the Deathly Hallows</td>\n",
       "      <td>J. K. Rowling</td>\n",
       "      <td>English</td>\n",
       "      <td>2007</td>\n",
       "      <td>65.0</td>\n",
       "    </tr>\n",
       "    <tr>\n",
       "      <th>14</th>\n",
       "      <td>14</td>\n",
       "      <td>The Alchemist (O Alquimista)</td>\n",
       "      <td>Paulo Coelho</td>\n",
       "      <td>Portuguese</td>\n",
       "      <td>1988</td>\n",
       "      <td>65.0</td>\n",
       "    </tr>\n",
       "    <tr>\n",
       "      <th>15</th>\n",
       "      <td>15</td>\n",
       "      <td>The Catcher in the Rye</td>\n",
       "      <td>J. D. Salinger</td>\n",
       "      <td>English</td>\n",
       "      <td>1951</td>\n",
       "      <td>65.0</td>\n",
       "    </tr>\n",
       "    <tr>\n",
       "      <th>16</th>\n",
       "      <td>16</td>\n",
       "      <td>The Bridges of Madison County</td>\n",
       "      <td>Robert James Waller</td>\n",
       "      <td>English</td>\n",
       "      <td>1992</td>\n",
       "      <td>60.0</td>\n",
       "    </tr>\n",
       "    <tr>\n",
       "      <th>17</th>\n",
       "      <td>17</td>\n",
       "      <td>One Hundred Years of Solitude (Cien años de so...</td>\n",
       "      <td>Gabriel García Márquez</td>\n",
       "      <td>Spanish</td>\n",
       "      <td>1967</td>\n",
       "      <td>50.0</td>\n",
       "    </tr>\n",
       "    <tr>\n",
       "      <th>18</th>\n",
       "      <td>18</td>\n",
       "      <td>Lolita</td>\n",
       "      <td>Vladimir Nabokov</td>\n",
       "      <td>English</td>\n",
       "      <td>1955</td>\n",
       "      <td>50.0</td>\n",
       "    </tr>\n",
       "    <tr>\n",
       "      <th>19</th>\n",
       "      <td>19</td>\n",
       "      <td>Heidi</td>\n",
       "      <td>Johanna Spyri</td>\n",
       "      <td>German</td>\n",
       "      <td>1880</td>\n",
       "      <td>50.0</td>\n",
       "    </tr>\n",
       "  </tbody>\n",
       "</table>\n",
       "</div>"
      ],
      "text/plain": [
       "    Unnamed: 0                                              Books  \\\n",
       "0            0                               A Tale of Two Cities   \n",
       "1            1                The Little Prince (Le Petit Prince)   \n",
       "2            2           Harry Potter and the Philosopher's Stone   \n",
       "3            3                           And Then There Were None   \n",
       "4            4                     Dream of the Red Chamber (紅樓夢)   \n",
       "5            5                                         The Hobbit   \n",
       "6            6                        She: A History of Adventure   \n",
       "7            7                                  The Da Vinci Code   \n",
       "8            8            Harry Potter and the Chamber of Secrets   \n",
       "9            9           Harry Potter and the Prisoner of Azkaban   \n",
       "10          10                Harry Potter and the Goblet of Fire   \n",
       "11          11          Harry Potter and the Order of the Phoenix   \n",
       "12          12             Harry Potter and the Half-Blood Prince   \n",
       "13          13               Harry Potter and the Deathly Hallows   \n",
       "14          14                       The Alchemist (O Alquimista)   \n",
       "15          15                             The Catcher in the Rye   \n",
       "16          16                      The Bridges of Madison County   \n",
       "17          17  One Hundred Years of Solitude (Cien años de so...   \n",
       "18          18                                             Lolita   \n",
       "19          19                                              Heidi   \n",
       "\n",
       "                     Authors    Language First_Published  Sales_in_millions  \n",
       "0            Charles Dickens     English            1859              200.0  \n",
       "1   Antoine de Saint-Exupéry      French            1943              200.0  \n",
       "2              J. K. Rowling     English            1997              120.0  \n",
       "3            Agatha Christie     English            1939              100.0  \n",
       "4                 Cao Xueqin     Chinese            1791              100.0  \n",
       "5           J. R. R. Tolkien     English            1937              100.0  \n",
       "6           H. Rider Haggard     English            1887               83.0  \n",
       "7                  Dan Brown     English            2003               80.0  \n",
       "8              J. K. Rowling     English            1998               77.0  \n",
       "9              J. K. Rowling     English            1999               65.0  \n",
       "10             J. K. Rowling     English            2000               65.0  \n",
       "11             J. K. Rowling     English            2003               65.0  \n",
       "12             J. K. Rowling     English            2005               65.0  \n",
       "13             J. K. Rowling     English            2007               65.0  \n",
       "14              Paulo Coelho  Portuguese            1988               65.0  \n",
       "15            J. D. Salinger     English            1951               65.0  \n",
       "16       Robert James Waller     English            1992               60.0  \n",
       "17    Gabriel García Márquez     Spanish            1967               50.0  \n",
       "18          Vladimir Nabokov     English            1955               50.0  \n",
       "19             Johanna Spyri      German            1880               50.0  "
      ]
     },
     "execution_count": 5,
     "metadata": {},
     "output_type": "execute_result"
    }
   ],
   "source": [
    "df.head(20)  #Displaying the First 20 Rows of a DataFrame"
   ]
  },
  {
   "cell_type": "markdown",
   "id": "2dd290ad",
   "metadata": {},
   "source": [
    "# Retrieving DataFrame Columns"
   ]
  },
  {
   "cell_type": "code",
   "execution_count": 6,
   "id": "aae56ba1",
   "metadata": {},
   "outputs": [
    {
     "data": {
      "text/plain": [
       "Index(['Unnamed: 0', 'Books', 'Authors', 'Language', 'First_Published',\n",
       "       'Sales_in_millions'],\n",
       "      dtype='object')"
      ]
     },
     "execution_count": 6,
     "metadata": {},
     "output_type": "execute_result"
    }
   ],
   "source": [
    "df.columns "
   ]
  },
  {
   "cell_type": "markdown",
   "id": "df2409e8",
   "metadata": {},
   "source": [
    "# Retrieving DataFrame Data Types"
   ]
  },
  {
   "cell_type": "code",
   "execution_count": 7,
   "id": "1fcb3654",
   "metadata": {},
   "outputs": [
    {
     "data": {
      "text/plain": [
       "Unnamed: 0             int64\n",
       "Books                 object\n",
       "Authors               object\n",
       "Language              object\n",
       "First_Published       object\n",
       "Sales_in_millions    float64\n",
       "dtype: object"
      ]
     },
     "execution_count": 7,
     "metadata": {},
     "output_type": "execute_result"
    }
   ],
   "source": [
    "df.dtypes "
   ]
  },
  {
   "cell_type": "markdown",
   "id": "610d4507",
   "metadata": {},
   "source": [
    "# DataFrame Information Summary"
   ]
  },
  {
   "cell_type": "code",
   "execution_count": 8,
   "id": "d4f6c484",
   "metadata": {},
   "outputs": [
    {
     "name": "stdout",
     "output_type": "stream",
     "text": [
      "<class 'pandas.core.frame.DataFrame'>\n",
      "RangeIndex: 290 entries, 0 to 289\n",
      "Data columns (total 6 columns):\n",
      " #   Column             Non-Null Count  Dtype  \n",
      "---  ------             --------------  -----  \n",
      " 0   Unnamed: 0         290 non-null    int64  \n",
      " 1   Books              290 non-null    object \n",
      " 2   Authors            290 non-null    object \n",
      " 3   Language           290 non-null    object \n",
      " 4   First_Published    290 non-null    object \n",
      " 5   Sales_in_millions  288 non-null    float64\n",
      "dtypes: float64(1), int64(1), object(4)\n",
      "memory usage: 13.7+ KB\n",
      "None\n"
     ]
    }
   ],
   "source": [
    "print(df.info())"
   ]
  },
  {
   "cell_type": "markdown",
   "id": "15157ac4",
   "metadata": {},
   "source": [
    "# Summary Statistics with df.describe()"
   ]
  },
  {
   "cell_type": "code",
   "execution_count": 9,
   "id": "6c463f9a",
   "metadata": {},
   "outputs": [
    {
     "data": {
      "text/html": [
       "<div>\n",
       "<style scoped>\n",
       "    .dataframe tbody tr th:only-of-type {\n",
       "        vertical-align: middle;\n",
       "    }\n",
       "\n",
       "    .dataframe tbody tr th {\n",
       "        vertical-align: top;\n",
       "    }\n",
       "\n",
       "    .dataframe thead th {\n",
       "        text-align: right;\n",
       "    }\n",
       "</style>\n",
       "<table border=\"1\" class=\"dataframe\">\n",
       "  <thead>\n",
       "    <tr style=\"text-align: right;\">\n",
       "      <th></th>\n",
       "      <th>Unnamed: 0</th>\n",
       "      <th>Sales_in_millions</th>\n",
       "    </tr>\n",
       "  </thead>\n",
       "  <tbody>\n",
       "    <tr>\n",
       "      <th>count</th>\n",
       "      <td>290.000000</td>\n",
       "      <td>288.000000</td>\n",
       "    </tr>\n",
       "    <tr>\n",
       "      <th>mean</th>\n",
       "      <td>144.500000</td>\n",
       "      <td>49.996875</td>\n",
       "    </tr>\n",
       "    <tr>\n",
       "      <th>std</th>\n",
       "      <td>83.860002</td>\n",
       "      <td>64.684632</td>\n",
       "    </tr>\n",
       "    <tr>\n",
       "      <th>min</th>\n",
       "      <td>0.000000</td>\n",
       "      <td>10.000000</td>\n",
       "    </tr>\n",
       "    <tr>\n",
       "      <th>25%</th>\n",
       "      <td>72.250000</td>\n",
       "      <td>16.000000</td>\n",
       "    </tr>\n",
       "    <tr>\n",
       "      <th>50%</th>\n",
       "      <td>144.500000</td>\n",
       "      <td>25.000000</td>\n",
       "    </tr>\n",
       "    <tr>\n",
       "      <th>75%</th>\n",
       "      <td>216.750000</td>\n",
       "      <td>50.000000</td>\n",
       "    </tr>\n",
       "    <tr>\n",
       "      <th>max</th>\n",
       "      <td>289.000000</td>\n",
       "      <td>600.000000</td>\n",
       "    </tr>\n",
       "  </tbody>\n",
       "</table>\n",
       "</div>"
      ],
      "text/plain": [
       "       Unnamed: 0  Sales_in_millions\n",
       "count  290.000000         288.000000\n",
       "mean   144.500000          49.996875\n",
       "std     83.860002          64.684632\n",
       "min      0.000000          10.000000\n",
       "25%     72.250000          16.000000\n",
       "50%    144.500000          25.000000\n",
       "75%    216.750000          50.000000\n",
       "max    289.000000         600.000000"
      ]
     },
     "execution_count": 9,
     "metadata": {},
     "output_type": "execute_result"
    }
   ],
   "source": [
    "df.describe() "
   ]
  },
  {
   "cell_type": "markdown",
   "id": "fb7a0495",
   "metadata": {},
   "source": [
    "# Length of DataFrame"
   ]
  },
  {
   "cell_type": "code",
   "execution_count": 10,
   "id": "bc15d8a7",
   "metadata": {},
   "outputs": [
    {
     "name": "stdout",
     "output_type": "stream",
     "text": [
      "Length of DataFrame: 290\n"
     ]
    }
   ],
   "source": [
    "length = len(df)\n",
    "print(\"Length of DataFrame:\", length)\n"
   ]
  },
  {
   "cell_type": "markdown",
   "id": "7e150cef",
   "metadata": {},
   "source": [
    "# Adding Column for String Length and Descriptive Statistics"
   ]
  },
  {
   "cell_type": "code",
   "execution_count": 12,
   "id": "b2ab241a",
   "metadata": {},
   "outputs": [
    {
     "data": {
      "text/html": [
       "<div>\n",
       "<style scoped>\n",
       "    .dataframe tbody tr th:only-of-type {\n",
       "        vertical-align: middle;\n",
       "    }\n",
       "\n",
       "    .dataframe tbody tr th {\n",
       "        vertical-align: top;\n",
       "    }\n",
       "\n",
       "    .dataframe thead th {\n",
       "        text-align: right;\n",
       "    }\n",
       "</style>\n",
       "<table border=\"1\" class=\"dataframe\">\n",
       "  <thead>\n",
       "    <tr style=\"text-align: right;\">\n",
       "      <th></th>\n",
       "      <th>Unnamed: 0</th>\n",
       "      <th>Sales_in_millions</th>\n",
       "      <th>length</th>\n",
       "    </tr>\n",
       "  </thead>\n",
       "  <tbody>\n",
       "    <tr>\n",
       "      <th>count</th>\n",
       "      <td>290.000000</td>\n",
       "      <td>288.000000</td>\n",
       "      <td>290.000000</td>\n",
       "    </tr>\n",
       "    <tr>\n",
       "      <th>mean</th>\n",
       "      <td>144.500000</td>\n",
       "      <td>49.996875</td>\n",
       "      <td>7.051724</td>\n",
       "    </tr>\n",
       "    <tr>\n",
       "      <th>std</th>\n",
       "      <td>83.860002</td>\n",
       "      <td>64.684632</td>\n",
       "      <td>0.526870</td>\n",
       "    </tr>\n",
       "    <tr>\n",
       "      <th>min</th>\n",
       "      <td>0.000000</td>\n",
       "      <td>10.000000</td>\n",
       "      <td>5.000000</td>\n",
       "    </tr>\n",
       "    <tr>\n",
       "      <th>25%</th>\n",
       "      <td>72.250000</td>\n",
       "      <td>16.000000</td>\n",
       "      <td>7.000000</td>\n",
       "    </tr>\n",
       "    <tr>\n",
       "      <th>50%</th>\n",
       "      <td>144.500000</td>\n",
       "      <td>25.000000</td>\n",
       "      <td>7.000000</td>\n",
       "    </tr>\n",
       "    <tr>\n",
       "      <th>75%</th>\n",
       "      <td>216.750000</td>\n",
       "      <td>50.000000</td>\n",
       "      <td>7.000000</td>\n",
       "    </tr>\n",
       "    <tr>\n",
       "      <th>max</th>\n",
       "      <td>289.000000</td>\n",
       "      <td>600.000000</td>\n",
       "      <td>10.000000</td>\n",
       "    </tr>\n",
       "  </tbody>\n",
       "</table>\n",
       "</div>"
      ],
      "text/plain": [
       "       Unnamed: 0  Sales_in_millions      length\n",
       "count  290.000000         288.000000  290.000000\n",
       "mean   144.500000          49.996875    7.051724\n",
       "std     83.860002          64.684632    0.526870\n",
       "min      0.000000          10.000000    5.000000\n",
       "25%     72.250000          16.000000    7.000000\n",
       "50%    144.500000          25.000000    7.000000\n",
       "75%    216.750000          50.000000    7.000000\n",
       "max    289.000000         600.000000   10.000000"
      ]
     },
     "execution_count": 12,
     "metadata": {},
     "output_type": "execute_result"
    }
   ],
   "source": [
    "df['length'] = df['Language'].str.len() \n",
    "df.describe() "
   ]
  },
  {
   "cell_type": "markdown",
   "id": "b66a6b86",
   "metadata": {},
   "source": [
    "# Descriptive Statistics for Categorical Columns"
   ]
  },
  {
   "cell_type": "code",
   "execution_count": 13,
   "id": "21b3e8c6",
   "metadata": {},
   "outputs": [
    {
     "data": {
      "text/html": [
       "<div>\n",
       "<style scoped>\n",
       "    .dataframe tbody tr th:only-of-type {\n",
       "        vertical-align: middle;\n",
       "    }\n",
       "\n",
       "    .dataframe tbody tr th {\n",
       "        vertical-align: top;\n",
       "    }\n",
       "\n",
       "    .dataframe thead th {\n",
       "        text-align: right;\n",
       "    }\n",
       "</style>\n",
       "<table border=\"1\" class=\"dataframe\">\n",
       "  <thead>\n",
       "    <tr style=\"text-align: right;\">\n",
       "      <th></th>\n",
       "      <th>Books</th>\n",
       "      <th>Authors</th>\n",
       "      <th>Language</th>\n",
       "      <th>First_Published</th>\n",
       "    </tr>\n",
       "  </thead>\n",
       "  <tbody>\n",
       "    <tr>\n",
       "      <th>count</th>\n",
       "      <td>290</td>\n",
       "      <td>290</td>\n",
       "      <td>290</td>\n",
       "      <td>290</td>\n",
       "    </tr>\n",
       "    <tr>\n",
       "      <th>unique</th>\n",
       "      <td>288</td>\n",
       "      <td>258</td>\n",
       "      <td>16</td>\n",
       "      <td>192</td>\n",
       "    </tr>\n",
       "    <tr>\n",
       "      <th>top</th>\n",
       "      <td>The Hunger Games</td>\n",
       "      <td>J. K. Rowling</td>\n",
       "      <td>English</td>\n",
       "      <td>1979</td>\n",
       "    </tr>\n",
       "    <tr>\n",
       "      <th>freq</th>\n",
       "      <td>2</td>\n",
       "      <td>8</td>\n",
       "      <td>210</td>\n",
       "      <td>5</td>\n",
       "    </tr>\n",
       "  </tbody>\n",
       "</table>\n",
       "</div>"
      ],
      "text/plain": [
       "                   Books        Authors Language First_Published\n",
       "count                290            290      290             290\n",
       "unique               288            258       16             192\n",
       "top     The Hunger Games  J. K. Rowling  English            1979\n",
       "freq                   2              8      210               5"
      ]
     },
     "execution_count": 13,
     "metadata": {},
     "output_type": "execute_result"
    }
   ],
   "source": [
    "df.describe(include='O') "
   ]
  },
  {
   "cell_type": "markdown",
   "id": "aa3e6906",
   "metadata": {},
   "source": [
    "# Counting Missing Values in DataFrame"
   ]
  },
  {
   "cell_type": "code",
   "execution_count": 14,
   "id": "b8bf346e",
   "metadata": {
    "scrolled": true
   },
   "outputs": [
    {
     "data": {
      "text/plain": [
       "Unnamed: 0           0\n",
       "Books                0\n",
       "Authors              0\n",
       "Language             0\n",
       "First_Published      0\n",
       "Sales_in_millions    2\n",
       "length               0\n",
       "dtype: int64"
      ]
     },
     "execution_count": 14,
     "metadata": {},
     "output_type": "execute_result"
    }
   ],
   "source": [
    "df.isna().sum() "
   ]
  },
  {
   "cell_type": "markdown",
   "id": "2d944599",
   "metadata": {},
   "source": [
    "# Filling Missing Values and Counting"
   ]
  },
  {
   "cell_type": "code",
   "execution_count": 15,
   "id": "518d71f3",
   "metadata": {
    "scrolled": true
   },
   "outputs": [
    {
     "data": {
      "text/plain": [
       "Unnamed: 0           0\n",
       "Books                0\n",
       "Authors              0\n",
       "Language             0\n",
       "First_Published      0\n",
       "Sales_in_millions    0\n",
       "length               0\n",
       "dtype: int64"
      ]
     },
     "execution_count": 15,
     "metadata": {},
     "output_type": "execute_result"
    }
   ],
   "source": [
    "df['Sales_in_millions'].fillna('unknown', inplace=True)\n",
    "df.isna().sum() # Display the count of missing values after filling NaN values"
   ]
  },
  {
   "cell_type": "markdown",
   "id": "47cc9f9d",
   "metadata": {},
   "source": [
    "# Visualizing Sales Data with Pandas and Matplotlib"
   ]
  },
  {
   "cell_type": "code",
   "execution_count": 31,
   "id": "daaa4744",
   "metadata": {},
   "outputs": [
    {
     "data": {
      "image/png": "[encoded data removed]",
      "text/plain": [
       "<Figure size 1000x600 with 1 Axes>"
      ]
     },
     "metadata": {},
     "output_type": "display_data"
    }
   ],
   "source": [
    "import pandas as pd\n",
    "import matplotlib.pyplot as plt\n",
    "\n",
    "df['Sales_in_millions'] = pd.to_numeric(df['Sales_in_millions'], errors='coerce')\n",
    "\n",
    "# Drop rows with NaN values in 'Sales_in_millions' column\n",
    "df.dropna(subset=['Sales_in_millions'], inplace=True)\n",
    "\n",
    "# Plot the histogram\n",
    "plt.figure(figsize=(10, 6))\n",
    "plt.hist(df['Sales_in_millions'], bins=20, color='skyblue', edgecolor='black')\n",
    "plt.title('Histogram of Sales in Millions')\n",
    "plt.xlabel('Sales (in millions)')\n",
    "plt.ylabel('Frequency')\n",
    "plt.grid(True)\n",
    "plt.show()"
   ]
  },
  {
   "cell_type": "markdown",
   "id": "8c528d1b",
   "metadata": {},
   "source": [
    "# Box Plot Analysis of Sales in Millions"
   ]
  },
  {
   "cell_type": "code",
   "execution_count": 36,
   "id": "982c1bd5",
   "metadata": {},
   "outputs": [
    {
     "data": {
      "image/png": "[encoded data removed]",
      "text/plain": [
       "<Figure size 800x600 with 1 Axes>"
      ]
     },
     "metadata": {},
     "output_type": "display_data"
    }
   ],
   "source": [
    "# Box plot for 'Engine HP'\n",
    "plt.figure(figsize=(8, 6))\n",
    "plt.boxplot(df['Sales_in_millions'], vert=False)\n",
    "plt.title('Boxplot of Sales_in_millions')\n",
    "plt.xlabel('Sales_in_millions ')\n",
    "plt.show()\n"
   ]
  },
  {
   "cell_type": "markdown",
   "id": "1daee7db",
   "metadata": {},
   "source": [
    "# Analyzing Sales in Millions Across Different Languages"
   ]
  },
  {
   "cell_type": "code",
   "execution_count": 39,
   "id": "b4eb5a00",
   "metadata": {},
   "outputs": [
    {
     "name": "stderr",
     "output_type": "stream",
     "text": [
      "/Users/srijanagella/anaconda3/lib/python3.11/site-packages/seaborn/axisgrid.py:118: UserWarning: The figure layout has changed to tight\n",
      "  self._figure.tight_layout(*args, **kwargs)\n"
     ]
    },
    {
     "data": {
      "text/plain": [
       "<Figure size 1000x600 with 0 Axes>"
      ]
     },
     "metadata": {},
     "output_type": "display_data"
    },
    {
     "data": {
      "image/png": "[encoded data removed]",
      "text/plain": [
       "<Figure size 1200x600 with 1 Axes>"
      ]
     },
     "metadata": {},
     "output_type": "display_data"
    }
   ],
   "source": [
    "import seaborn as sns\n",
    "\n",
    "# Creating a categorical plot (box plot) using seaborn\n",
    "plt.figure(figsize=(10, 6))\n",
    "sns.catplot(x='Language', y='Sales_in_millions', data=df, kind='box', height=6, aspect=2)\n",
    "plt.title('Categorical Plot of Engine HP by Vehicle Style')\n",
    "plt.xlabel('Language')\n",
    "plt.ylabel('Sales in Million')\n",
    "plt.xticks(rotation=45)\n",
    "plt.show()\n"
   ]
  },
  {
   "cell_type": "markdown",
   "id": "630b9e56",
   "metadata": {},
   "source": [
    "# Tokenizing Text Using Regular Expressions"
   ]
  },
  {
   "cell_type": "code",
   "execution_count": 40,
   "id": "b001383d",
   "metadata": {},
   "outputs": [],
   "source": [
    "# Importing Regex Package\n",
    "import regex as re\n",
    "# Defining a Function to Pull Words\n",
    "def tokenize(text):\n",
    "    return re.findall(r'[\\w-]*[a-z|A-Z][\\w-]*', text)"
   ]
  },
  {
   "cell_type": "code",
   "execution_count": 41,
   "id": "df209fe8",
   "metadata": {},
   "outputs": [
    {
     "name": "stdout",
     "output_type": "stream",
     "text": [
      "['Let', 's', 'defeat', 'SARS-CoV-2', 'together', 'in', 'www', 'cdc', 'gov']\n"
     ]
    }
   ],
   "source": [
    "# Toknizing the Given Text\n",
    "testtext = \"Let's defeat SARS-CoV-2 together in 2020! www.cdc.gov\"\n",
    "testtokens = tokenize(testtext)\n",
    "print(testtokens)"
   ]
  },
  {
   "cell_type": "code",
   "execution_count": 42,
   "id": "c8f49729",
   "metadata": {},
   "outputs": [],
   "source": [
    "# Importing nltk Package\n",
    "import nltk"
   ]
  },
  {
   "cell_type": "markdown",
   "id": "12e323e8",
   "metadata": {},
   "source": [
    "# Downloading and Displaying a List of Stop Words"
   ]
  },
  {
   "cell_type": "code",
   "execution_count": 43,
   "id": "f9a278c4",
   "metadata": {},
   "outputs": [
    {
     "name": "stdout",
     "output_type": "stream",
     "text": [
      "{'doesn', 'below', \"should've\", 'through', 'themselves', 'then', 'he', 'until', 'some', 'was', 'no', 'while', 'your', 'whom', 'into', 'have', 'their', 'won', 'who', 'after', 'aren', \"mightn't\", 'once', 'she', 'it', 'than', 'both', 'out', \"she's\", 'has', 'same', \"needn't\", \"couldn't\", 'over', 'weren', \"you'll\", 'had', 'they', 'own', 've', \"hasn't\", 'needn', 'should', 'will', 'those', 'does', 'not', \"won't\", \"doesn't\", 'i', 'his', 's', 'ain', 're', 'and', 'of', 'its', \"don't\", \"you'd\", 'ours', 'if', 'wasn', \"you're\", 'how', 'my', 'this', 'ma', \"hadn't\", 'did', 'between', 'few', 'am', \"haven't\", 'so', 'an', 'from', 'such', 'as', 'you', 'above', 'very', \"it's\", 'wouldn', 'most', 'yours', 'here', 'nor', 'against', 'mightn', 'only', 'we', 'off', 'there', 'll', 'her', 'about', \"aren't\", 'y', 'on', 'mustn', 'our', 'each', 'don', 'yourselves', 'haven', 'up', 'yourself', 'herself', 'more', 'shouldn', 'where', 'didn', \"shan't\", 'under', 'hadn', 'or', 'because', \"didn't\", 'is', 'hasn', \"isn't\", 'but', 'that', 'for', 'do', 'what', 'them', 'him', 'can', 'during', 'too', 'a', 'himself', 'myself', 'doing', 'me', 'these', 'be', 'isn', \"you've\", \"that'll\", 't', 'any', 'further', 'being', 'in', 'at', 'been', 'with', \"mustn't\", 'other', 'ourselves', 'again', 'just', 'before', 'the', 'theirs', 'shan', 'm', 'when', 'to', \"wasn't\", 'are', 'd', \"shouldn't\", 'down', 'hers', 'having', 'now', \"wouldn't\", 'o', 'why', 'by', 'which', 'all', \"weren't\", 'couldn', 'were', 'itself'}\n"
     ]
    },
    {
     "name": "stderr",
     "output_type": "stream",
     "text": [
      "[nltk_data] Downloading package stopwords to\n",
      "[nltk_data]     /Users/srijanagella/nltk_data...\n",
      "[nltk_data]   Package stopwords is already up-to-date!\n"
     ]
    }
   ],
   "source": [
    "# Downloading all List of Stop Words\n",
    "nltk.download('stopwords')\n",
    "stopwords = set(nltk.corpus.stopwords.words('english'))\n",
    "print(stopwords)"
   ]
  },
  {
   "cell_type": "markdown",
   "id": "098202e2",
   "metadata": {},
   "source": [
    "# Removing Stop Words from Tokenized Text"
   ]
  },
  {
   "cell_type": "code",
   "execution_count": 45,
   "id": "6fc8fd62",
   "metadata": {},
   "outputs": [
    {
     "name": "stdout",
     "output_type": "stream",
     "text": [
      "['Let', 'defeat', 'SARS-CoV-2', 'together', 'www', 'cdc', 'gov']\n"
     ]
    }
   ],
   "source": [
    "# Defining a Function to Remove Stop Words\n",
    "def remove_stop(tokens):\n",
    "    return [t for t in tokens if t.lower() not in stopwords]\n",
    "#Just testing it\n",
    "cleantokens= remove_stop(testtokens)\n",
    "print(cleantokens)"
   ]
  },
  {
   "cell_type": "code",
   "execution_count": 46,
   "id": "4cc7403f",
   "metadata": {},
   "outputs": [],
   "source": [
    "# Creating a Pipeline\n",
    "pipeline = [str.lower, tokenize, remove_stop]\n",
    "\n",
    "# Defining a Function to Run the Pipeline\n",
    "def prepare(text, pipeline):\n",
    "    tokens = text\n",
    "    for fun in pipeline:\n",
    "        tokens = fun(tokens)\n",
    "    return tokens"
   ]
  },
  {
   "cell_type": "markdown",
   "id": "8396a6cd",
   "metadata": {},
   "source": [
    "# Pipeline"
   ]
  },
  {
   "cell_type": "code",
   "execution_count": 48,
   "id": "0cee18e3",
   "metadata": {},
   "outputs": [],
   "source": [
    "# Running the Pipeline\n",
    "df['tokens'] = df['Language'].apply(prepare, pipeline=pipeline)"
   ]
  },
  {
   "cell_type": "code",
   "execution_count": 49,
   "id": "eaef4ad1",
   "metadata": {},
   "outputs": [
    {
     "data": {
      "text/html": [
       "<div>\n",
       "<style scoped>\n",
       "    .dataframe tbody tr th:only-of-type {\n",
       "        vertical-align: middle;\n",
       "    }\n",
       "\n",
       "    .dataframe tbody tr th {\n",
       "        vertical-align: top;\n",
       "    }\n",
       "\n",
       "    .dataframe thead th {\n",
       "        text-align: right;\n",
       "    }\n",
       "</style>\n",
       "<table border=\"1\" class=\"dataframe\">\n",
       "  <thead>\n",
       "    <tr style=\"text-align: right;\">\n",
       "      <th></th>\n",
       "      <th>Unnamed: 0</th>\n",
       "      <th>Books</th>\n",
       "      <th>Authors</th>\n",
       "      <th>Language</th>\n",
       "      <th>First_Published</th>\n",
       "      <th>Sales_in_millions</th>\n",
       "      <th>length</th>\n",
       "      <th>tokens</th>\n",
       "      <th>num_tokens</th>\n",
       "    </tr>\n",
       "  </thead>\n",
       "  <tbody>\n",
       "    <tr>\n",
       "      <th>285</th>\n",
       "      <td>285</td>\n",
       "      <td>The No. 1 Ladies Detective Agency</td>\n",
       "      <td>Alexander McCall Smith</td>\n",
       "      <td>English</td>\n",
       "      <td>1999–present</td>\n",
       "      <td>15.0</td>\n",
       "      <td>7</td>\n",
       "      <td>[english]</td>\n",
       "      <td>1</td>\n",
       "    </tr>\n",
       "    <tr>\n",
       "      <th>286</th>\n",
       "      <td>286</td>\n",
       "      <td>Der Regenbogenfisch (Rainbow Fish)</td>\n",
       "      <td>Marcus Pfister</td>\n",
       "      <td>German</td>\n",
       "      <td>1992–present</td>\n",
       "      <td>15.0</td>\n",
       "      <td>6</td>\n",
       "      <td>[german]</td>\n",
       "      <td>1</td>\n",
       "    </tr>\n",
       "    <tr>\n",
       "      <th>287</th>\n",
       "      <td>287</td>\n",
       "      <td>The Riftwar Cycle</td>\n",
       "      <td>Raymond E. Feist</td>\n",
       "      <td>English</td>\n",
       "      <td>1982–present</td>\n",
       "      <td>15.0</td>\n",
       "      <td>7</td>\n",
       "      <td>[english]</td>\n",
       "      <td>1</td>\n",
       "    </tr>\n",
       "    <tr>\n",
       "      <th>288</th>\n",
       "      <td>288</td>\n",
       "      <td>The Thrawn trilogy</td>\n",
       "      <td>Timothy Zahn</td>\n",
       "      <td>English</td>\n",
       "      <td>1991–93</td>\n",
       "      <td>15.0</td>\n",
       "      <td>7</td>\n",
       "      <td>[english]</td>\n",
       "      <td>1</td>\n",
       "    </tr>\n",
       "    <tr>\n",
       "      <th>289</th>\n",
       "      <td>289</td>\n",
       "      <td>Wiedźmin (The Witcher)</td>\n",
       "      <td>Andrzej Sapkowski</td>\n",
       "      <td>Polish</td>\n",
       "      <td>1990–2013</td>\n",
       "      <td>15.0</td>\n",
       "      <td>6</td>\n",
       "      <td>[polish]</td>\n",
       "      <td>1</td>\n",
       "    </tr>\n",
       "  </tbody>\n",
       "</table>\n",
       "</div>"
      ],
      "text/plain": [
       "     Unnamed: 0                               Books                 Authors  \\\n",
       "285         285   The No. 1 Ladies Detective Agency  Alexander McCall Smith   \n",
       "286         286  Der Regenbogenfisch (Rainbow Fish)          Marcus Pfister   \n",
       "287         287                   The Riftwar Cycle        Raymond E. Feist   \n",
       "288         288                  The Thrawn trilogy            Timothy Zahn   \n",
       "289         289              Wiedźmin (The Witcher)       Andrzej Sapkowski   \n",
       "\n",
       "    Language First_Published  Sales_in_millions  length     tokens  num_tokens  \n",
       "285  English    1999–present               15.0       7  [english]           1  \n",
       "286   German    1992–present               15.0       6   [german]           1  \n",
       "287  English    1982–present               15.0       7  [english]           1  \n",
       "288  English         1991–93               15.0       7  [english]           1  \n",
       "289   Polish       1990–2013               15.0       6   [polish]           1  "
      ]
     },
     "execution_count": 49,
     "metadata": {},
     "output_type": "execute_result"
    }
   ],
   "source": [
    "#creating a New Column for the Number of Tokens\n",
    "df['num_tokens'] = df['tokens'].map(len)\n",
    "df.tail()"
   ]
  },
  {
   "cell_type": "markdown",
   "id": "1a5d6cbb",
   "metadata": {},
   "source": [
    "# Counting Token Frequencies Using the Counter Function"
   ]
  },
  {
   "cell_type": "code",
   "execution_count": 50,
   "id": "ae2624da",
   "metadata": {},
   "outputs": [
    {
     "name": "stdout",
     "output_type": "stream",
     "text": [
      "Counter({'my': 3, 'cats': 2, 'She': 1, 'likes': 1, 'and': 1, 'like': 1, 'sofa': 1})\n"
     ]
    }
   ],
   "source": [
    "# importing a function Counter\n",
    "from collections import Counter\n",
    "\n",
    "tokens = tokenize(\"She likes my cats and my cats like my sofa.\")\n",
    "testcount= Counter(tokens)\n",
    "print(testcount)"
   ]
  },
  {
   "cell_type": "code",
   "execution_count": 51,
   "id": "ec1b4fe5",
   "metadata": {},
   "outputs": [
    {
     "name": "stdout",
     "output_type": "stream",
     "text": [
      "[('english', 209), ('japanese', 26), ('french', 9), ('russian', 7), ('chinese', 6)]\n"
     ]
    }
   ],
   "source": [
    "# Printing the 5 Words Repeated the Most\n",
    "counter = Counter()\n",
    "df['tokens'].map(counter.update)\n",
    "print(counter.most_common(5))"
   ]
  },
  {
   "cell_type": "markdown",
   "id": "7ed4ecb1",
   "metadata": {},
   "source": [
    "# Creating a DataFrame for Frequency Analysis and Sorting by Frequency"
   ]
  },
  {
   "cell_type": "code",
   "execution_count": 52,
   "id": "42514396",
   "metadata": {},
   "outputs": [],
   "source": [
    "# Creating a New Data Frame for Frequency Analysis \n",
    "freq_df = pd.DataFrame.from_dict(counter, orient='index', columns=['freq'])\n",
    "freq_df = freq_df.query('freq >= 1')\n",
    "freq_df.index.name = 'token'"
   ]
  },
  {
   "cell_type": "code",
   "execution_count": 53,
   "id": "ecc98954",
   "metadata": {},
   "outputs": [
    {
     "data": {
      "text/html": [
       "<div>\n",
       "<style scoped>\n",
       "    .dataframe tbody tr th:only-of-type {\n",
       "        vertical-align: middle;\n",
       "    }\n",
       "\n",
       "    .dataframe tbody tr th {\n",
       "        vertical-align: top;\n",
       "    }\n",
       "\n",
       "    .dataframe thead th {\n",
       "        text-align: right;\n",
       "    }\n",
       "</style>\n",
       "<table border=\"1\" class=\"dataframe\">\n",
       "  <thead>\n",
       "    <tr style=\"text-align: right;\">\n",
       "      <th></th>\n",
       "      <th>freq</th>\n",
       "    </tr>\n",
       "    <tr>\n",
       "      <th>token</th>\n",
       "      <th></th>\n",
       "    </tr>\n",
       "  </thead>\n",
       "  <tbody>\n",
       "    <tr>\n",
       "      <th>english</th>\n",
       "      <td>209</td>\n",
       "    </tr>\n",
       "    <tr>\n",
       "      <th>japanese</th>\n",
       "      <td>26</td>\n",
       "    </tr>\n",
       "    <tr>\n",
       "      <th>french</th>\n",
       "      <td>9</td>\n",
       "    </tr>\n",
       "    <tr>\n",
       "      <th>russian</th>\n",
       "      <td>7</td>\n",
       "    </tr>\n",
       "    <tr>\n",
       "      <th>chinese</th>\n",
       "      <td>6</td>\n",
       "    </tr>\n",
       "    <tr>\n",
       "      <th>german</th>\n",
       "      <td>6</td>\n",
       "    </tr>\n",
       "    <tr>\n",
       "      <th>swedish</th>\n",
       "      <td>6</td>\n",
       "    </tr>\n",
       "    <tr>\n",
       "      <th>italian</th>\n",
       "      <td>5</td>\n",
       "    </tr>\n",
       "    <tr>\n",
       "      <th>norwegian</th>\n",
       "      <td>4</td>\n",
       "    </tr>\n",
       "    <tr>\n",
       "      <th>spanish</th>\n",
       "      <td>3</td>\n",
       "    </tr>\n",
       "  </tbody>\n",
       "</table>\n",
       "</div>"
      ],
      "text/plain": [
       "           freq\n",
       "token          \n",
       "english     209\n",
       "japanese     26\n",
       "french        9\n",
       "russian       7\n",
       "chinese       6\n",
       "german        6\n",
       "swedish       6\n",
       "italian       5\n",
       "norwegian     4\n",
       "spanish       3"
      ]
     },
     "execution_count": 53,
     "metadata": {},
     "output_type": "execute_result"
    }
   ],
   "source": [
    "# Sorting the freq_df based on Frequency\n",
    "freq_df = freq_df.sort_values('freq', ascending=False)\n",
    "freq_df.head(10)"
   ]
  },
  {
   "cell_type": "code",
   "execution_count": 54,
   "id": "fd10b9a9",
   "metadata": {},
   "outputs": [
    {
     "data": {
      "text/html": [
       "<div>\n",
       "<style scoped>\n",
       "    .dataframe tbody tr th:only-of-type {\n",
       "        vertical-align: middle;\n",
       "    }\n",
       "\n",
       "    .dataframe tbody tr th {\n",
       "        vertical-align: top;\n",
       "    }\n",
       "\n",
       "    .dataframe thead th {\n",
       "        text-align: right;\n",
       "    }\n",
       "</style>\n",
       "<table border=\"1\" class=\"dataframe\">\n",
       "  <thead>\n",
       "    <tr style=\"text-align: right;\">\n",
       "      <th></th>\n",
       "      <th>freq</th>\n",
       "    </tr>\n",
       "  </thead>\n",
       "  <tbody>\n",
       "    <tr>\n",
       "      <th>count</th>\n",
       "      <td>16.000000</td>\n",
       "    </tr>\n",
       "    <tr>\n",
       "      <th>mean</th>\n",
       "      <td>18.000000</td>\n",
       "    </tr>\n",
       "    <tr>\n",
       "      <th>std</th>\n",
       "      <td>51.296524</td>\n",
       "    </tr>\n",
       "    <tr>\n",
       "      <th>min</th>\n",
       "      <td>1.000000</td>\n",
       "    </tr>\n",
       "    <tr>\n",
       "      <th>25%</th>\n",
       "      <td>1.000000</td>\n",
       "    </tr>\n",
       "    <tr>\n",
       "      <th>50%</th>\n",
       "      <td>4.500000</td>\n",
       "    </tr>\n",
       "    <tr>\n",
       "      <th>75%</th>\n",
       "      <td>6.250000</td>\n",
       "    </tr>\n",
       "    <tr>\n",
       "      <th>max</th>\n",
       "      <td>209.000000</td>\n",
       "    </tr>\n",
       "  </tbody>\n",
       "</table>\n",
       "</div>"
      ],
      "text/plain": [
       "             freq\n",
       "count   16.000000\n",
       "mean    18.000000\n",
       "std     51.296524\n",
       "min      1.000000\n",
       "25%      1.000000\n",
       "50%      4.500000\n",
       "75%      6.250000\n",
       "max    209.000000"
      ]
     },
     "execution_count": 54,
     "metadata": {},
     "output_type": "execute_result"
    }
   ],
   "source": [
    "# Printing the Statistical Data of Frequency\n",
    "freq_df.describe()"
   ]
  },
  {
   "cell_type": "markdown",
   "id": "93cfaecb",
   "metadata": {},
   "source": [
    "# Bar Graph"
   ]
  },
  {
   "cell_type": "code",
   "execution_count": 55,
   "id": "987dcdaa",
   "metadata": {},
   "outputs": [
    {
     "data": {
      "text/plain": [
       "[Text(0.5, 0, 'Frequency'), Text(0, 0.5, 'Token'), Text(0.5, 1.0, 'Top Words')]"
      ]
     },
     "execution_count": 55,
     "metadata": {},
     "output_type": "execute_result"
    },
    {
     "data": {
      "image/png": "[encoded data removed]",
      "text/plain": [
       "<Figure size 1000x600 with 1 Axes>"
      ]
     },
     "metadata": {},
     "output_type": "display_data"
    }
   ],
   "source": [
    "# Plotting a bar graph for most frequent words \n",
    "ax = freq_df.head(15).plot(kind='barh', width=0.95, figsize=(10,6))\n",
    "ax.invert_yaxis()\n",
    "ax.set(xlabel='Frequency', ylabel='Token', title='Top Words')"
   ]
  },
  {
   "cell_type": "markdown",
   "id": "889340e5",
   "metadata": {},
   "source": [
    "# Word Cloud"
   ]
  },
  {
   "cell_type": "code",
   "execution_count": 56,
   "id": "ddda5505",
   "metadata": {},
   "outputs": [
    {
     "data": {
      "image/png": "[encoded data removed]",
      "text/plain": [
       "<Figure size 1000x800 with 1 Axes>"
      ]
     },
     "metadata": {},
     "output_type": "display_data"
    }
   ],
   "source": [
    "from wordcloud import WordCloud\n",
    "import matplotlib.pyplot as plt\n",
    "\n",
    "# Concatenate all 'Vehicle Style' strings into one string\n",
    "text = ' '.join(df['Language'].astype(str))\n",
    "\n",
    "# Generate word cloud\n",
    "wordcloud = WordCloud(width=800, height=400, background_color='white').generate(text)\n",
    "\n",
    "# Display the word cloud using matplotlib\n",
    "plt.figure(figsize=(10, 8))\n",
    "plt.imshow(wordcloud, interpolation='bilinear')\n",
    "plt.axis('off')\n",
    "plt.title('Word Cloud of Vehicle Styles')\n",
    "plt.show()\n"
   ]
  },
  {
   "cell_type": "markdown",
   "id": "7c88a1f7",
   "metadata": {},
   "source": [
    "# Sentiment Analysis"
   ]
  },
  {
   "cell_type": "code",
   "execution_count": 57,
   "id": "abcdf8e2",
   "metadata": {},
   "outputs": [
    {
     "name": "stderr",
     "output_type": "stream",
     "text": [
      "[nltk_data] Downloading package opinion_lexicon to\n",
      "[nltk_data]     /Users/srijanagella/nltk_data...\n",
      "[nltk_data]   Package opinion_lexicon is already up-to-date!\n"
     ]
    },
    {
     "data": {
      "text/plain": [
       "True"
      ]
     },
     "execution_count": 57,
     "metadata": {},
     "output_type": "execute_result"
    }
   ],
   "source": [
    "# Importing the preprocessing module from the scikit-learn library\n",
    "from sklearn import preprocessing\n",
    "# Importing the Natural Language Toolkit (NLTK)\n",
    "import nltk\n",
    "# Downloading the opinion lexicon dataset from NLTK\n",
    "nltk.download('opinion_lexicon')"
   ]
  },
  {
   "cell_type": "code",
   "execution_count": 58,
   "id": "7559fa6a",
   "metadata": {},
   "outputs": [],
   "source": [
    "# Importing the opinion_lexicon dataset from the NLTK corpus module\n",
    "from nltk.corpus import opinion_lexicon\n",
    "# Importing the word_tokenize function from the NLTK tokenize module\n",
    "from nltk.tokenize import word_tokenize"
   ]
  },
  {
   "cell_type": "code",
   "execution_count": 59,
   "id": "865d98ec",
   "metadata": {},
   "outputs": [
    {
     "name": "stdout",
     "output_type": "stream",
     "text": [
      "Total number of words in opinion lexicon 6789\n",
      "Examples of positive words in opinion lexicon ['a+', 'abound', 'abounds', 'abundance', 'abundant', 'accessable', 'accessible', 'acclaim', 'acclaimed', 'acclamation']\n",
      "Examples of negative words in opinion lexicon ['2-faced', '2-faces', 'abnormal', 'abolish', 'abominable', 'abominably', 'abominate', 'abomination', 'abort', 'aborted']\n"
     ]
    }
   ],
   "source": [
    "# Printing the total number of words in the opinion_lexicon dataset\n",
    "print('Total number of words in opinion lexicon', len(opinion_lexicon.words()))\n",
    "# Printing examples of positive words in the opinion_lexicon dataset\n",
    "print('Examples of positive words in opinion lexicon',opinion_lexicon.positive()[:10])\n",
    "# Printing examples of negative words in the opinion_lexicon dataset\n",
    "print('Examples of negative words in opinion lexicon',opinion_lexicon.negative()[:10])"
   ]
  },
  {
   "cell_type": "code",
   "execution_count": 60,
   "id": "7cf0fbbb",
   "metadata": {},
   "outputs": [
    {
     "name": "stderr",
     "output_type": "stream",
     "text": [
      "[nltk_data] Downloading package punkt to\n",
      "[nltk_data]     /Users/srijanagella/nltk_data...\n",
      "[nltk_data]   Package punkt is already up-to-date!\n"
     ]
    }
   ],
   "source": [
    "# Downloading the 'punkt' tokenizer from NLTK, which is required for word tokenization\n",
    "nltk.download('punkt')\n",
    "# Renaming the column 'reviewText' to 'text' for consistency and clarity\n",
    "df.rename(columns={\"reviewText\": \"text\"}, inplace=True)\n",
    "# Assigning positive and negative scores for sentiment analysis\n",
    "pos_score = 1\n",
    "neg_score = -1\n",
    "# Creating an empty dictionary to store word scores for sentiment analysis\n",
    "word_dict = {}"
   ]
  },
  {
   "cell_type": "code",
   "execution_count": 61,
   "id": "c48a4306",
   "metadata": {},
   "outputs": [],
   "source": [
    "# Iterating through each positive word in the opinion lexicon and adding it to the word dictionary\n",
    "for word in opinion_lexicon.positive():\n",
    "    word_dict[word] = pos_score"
   ]
  },
  {
   "cell_type": "code",
   "execution_count": 62,
   "id": "389a6701",
   "metadata": {},
   "outputs": [],
   "source": [
    "# Iterating through each negative word in the opinion lexicon and adding it to the word dictionary\n",
    "for word in opinion_lexicon.negative():\n",
    "    word_dict[word] = neg_score"
   ]
  },
  {
   "cell_type": "code",
   "execution_count": 63,
   "id": "ccfea1e8",
   "metadata": {},
   "outputs": [],
   "source": [
    "# Define a function to calculate the sentiment score of a given text using Bing Liu's lexicon.\n",
    "def bing_liu_score(text):\n",
    "    sentiment_score = 0 # Initialize the sentiment score to zero.\n",
    "    bag_of_words = word_tokenize(text.lower()) # Tokenize the text into individual words and convert to lowercase.\n",
    "# Iterate over each word in the bag of words.\n",
    "    for word in bag_of_words:\n",
    "        # Check if the word exists in the word dictionary.\n",
    "        if word in word_dict:\n",
    "            sentiment_score += word_dict[word] # Add the sentiment score of the word to the overall sentiment score.\n",
    "            return sentiment_score # Return the final sentiment score of the text."
   ]
  },
  {
   "cell_type": "code",
   "execution_count": 66,
   "id": "3b30f188",
   "metadata": {},
   "outputs": [],
   "source": [
    "df['Language'].fillna('English', inplace=True)\n",
    "\n",
    "# Assuming you have a function called bing_liu_score\n",
    "def bing_liu_score(Language):\n",
    "    # Implement your logic here to compute the Bing Liu score based on the language\n",
    "        return 5\n",
    "    else:\n",
    "        return 0  # Fill with appropriate score for other LaNGUAGE\n",
    "\n",
    "# Apply the function to create the 'Bing_Liu_Score' column\n",
    "df['Bing_Liu_Score'] = df['Language'].apply(bing_liu_score)\n"
   ]
  },
  {
   "cell_type": "code",
   "execution_count": 67,
   "id": "4c058a29",
   "metadata": {},
   "outputs": [
    {
     "data": {
      "text/html": [
       "<div>\n",
       "<style scoped>\n",
       "    .dataframe tbody tr th:only-of-type {\n",
       "        vertical-align: middle;\n",
       "    }\n",
       "\n",
       "    .dataframe tbody tr th {\n",
       "        vertical-align: top;\n",
       "    }\n",
       "\n",
       "    .dataframe thead th {\n",
       "        text-align: right;\n",
       "    }\n",
       "</style>\n",
       "<table border=\"1\" class=\"dataframe\">\n",
       "  <thead>\n",
       "    <tr style=\"text-align: right;\">\n",
       "      <th></th>\n",
       "      <th>First_Published</th>\n",
       "      <th>Language</th>\n",
       "      <th>Bing_Liu_Score</th>\n",
       "    </tr>\n",
       "  </thead>\n",
       "  <tbody>\n",
       "    <tr>\n",
       "      <th>0</th>\n",
       "      <td>1859</td>\n",
       "      <td>English</td>\n",
       "      <td>5</td>\n",
       "    </tr>\n",
       "    <tr>\n",
       "      <th>1</th>\n",
       "      <td>1943</td>\n",
       "      <td>French</td>\n",
       "      <td>0</td>\n",
       "    </tr>\n",
       "    <tr>\n",
       "      <th>2</th>\n",
       "      <td>1997</td>\n",
       "      <td>English</td>\n",
       "      <td>5</td>\n",
       "    </tr>\n",
       "    <tr>\n",
       "      <th>3</th>\n",
       "      <td>1939</td>\n",
       "      <td>English</td>\n",
       "      <td>5</td>\n",
       "    </tr>\n",
       "    <tr>\n",
       "      <th>4</th>\n",
       "      <td>1791</td>\n",
       "      <td>Chinese</td>\n",
       "      <td>0</td>\n",
       "    </tr>\n",
       "    <tr>\n",
       "      <th>5</th>\n",
       "      <td>1937</td>\n",
       "      <td>English</td>\n",
       "      <td>5</td>\n",
       "    </tr>\n",
       "    <tr>\n",
       "      <th>6</th>\n",
       "      <td>1887</td>\n",
       "      <td>English</td>\n",
       "      <td>5</td>\n",
       "    </tr>\n",
       "    <tr>\n",
       "      <th>7</th>\n",
       "      <td>2003</td>\n",
       "      <td>English</td>\n",
       "      <td>5</td>\n",
       "    </tr>\n",
       "    <tr>\n",
       "      <th>8</th>\n",
       "      <td>1998</td>\n",
       "      <td>English</td>\n",
       "      <td>5</td>\n",
       "    </tr>\n",
       "    <tr>\n",
       "      <th>9</th>\n",
       "      <td>1999</td>\n",
       "      <td>English</td>\n",
       "      <td>5</td>\n",
       "    </tr>\n",
       "  </tbody>\n",
       "</table>\n",
       "</div>"
      ],
      "text/plain": [
       "  First_Published Language  Bing_Liu_Score\n",
       "0            1859  English               5\n",
       "1            1943   French               0\n",
       "2            1997  English               5\n",
       "3            1939  English               5\n",
       "4            1791  Chinese               0\n",
       "5            1937  English               5\n",
       "6            1887  English               5\n",
       "7            2003  English               5\n",
       "8            1998  English               5\n",
       "9            1999  English               5"
      ]
     },
     "execution_count": 67,
     "metadata": {},
     "output_type": "execute_result"
    }
   ],
   "source": [
    "# Displaying the first 10 rows of selected columns ('First_Published', 'Language', 'Bing_Liu_Score')\n",
    "df[['First_Published',\"Language\", 'Bing_Liu_Score']].head(10)"
   ]
  },
  {
   "cell_type": "code",
   "execution_count": 68,
   "id": "b198afd7",
   "metadata": {},
   "outputs": [
    {
     "data": {
      "text/html": [
       "<div>\n",
       "<style scoped>\n",
       "    .dataframe tbody tr th:only-of-type {\n",
       "        vertical-align: middle;\n",
       "    }\n",
       "\n",
       "    .dataframe tbody tr th {\n",
       "        vertical-align: top;\n",
       "    }\n",
       "\n",
       "    .dataframe thead th {\n",
       "        text-align: right;\n",
       "    }\n",
       "</style>\n",
       "<table border=\"1\" class=\"dataframe\">\n",
       "  <thead>\n",
       "    <tr style=\"text-align: right;\">\n",
       "      <th></th>\n",
       "      <th>Bing_Liu_Score</th>\n",
       "    </tr>\n",
       "    <tr>\n",
       "      <th>First_Published</th>\n",
       "      <th></th>\n",
       "    </tr>\n",
       "  </thead>\n",
       "  <tbody>\n",
       "    <tr>\n",
       "      <th>1304</th>\n",
       "      <td>0.0</td>\n",
       "    </tr>\n",
       "    <tr>\n",
       "      <th>1788</th>\n",
       "      <td>0.0</td>\n",
       "    </tr>\n",
       "    <tr>\n",
       "      <th>1791</th>\n",
       "      <td>0.0</td>\n",
       "    </tr>\n",
       "    <tr>\n",
       "      <th>1813</th>\n",
       "      <td>5.0</td>\n",
       "    </tr>\n",
       "    <tr>\n",
       "      <th>1859</th>\n",
       "      <td>5.0</td>\n",
       "    </tr>\n",
       "    <tr>\n",
       "      <th>...</th>\n",
       "      <td>...</td>\n",
       "    </tr>\n",
       "    <tr>\n",
       "      <th>2012</th>\n",
       "      <td>5.0</td>\n",
       "    </tr>\n",
       "    <tr>\n",
       "      <th>2014</th>\n",
       "      <td>5.0</td>\n",
       "    </tr>\n",
       "    <tr>\n",
       "      <th>2015</th>\n",
       "      <td>5.0</td>\n",
       "    </tr>\n",
       "    <tr>\n",
       "      <th>2016</th>\n",
       "      <td>5.0</td>\n",
       "    </tr>\n",
       "    <tr>\n",
       "      <th>2018</th>\n",
       "      <td>5.0</td>\n",
       "    </tr>\n",
       "  </tbody>\n",
       "</table>\n",
       "<p>191 rows × 1 columns</p>\n",
       "</div>"
      ],
      "text/plain": [
       "                 Bing_Liu_Score\n",
       "First_Published                \n",
       "1304                        0.0\n",
       "1788                        0.0\n",
       "1791                        0.0\n",
       "1813                        5.0\n",
       "1859                        5.0\n",
       "...                         ...\n",
       "2012                        5.0\n",
       "2014                        5.0\n",
       "2015                        5.0\n",
       "2016                        5.0\n",
       "2018                        5.0\n",
       "\n",
       "[191 rows x 1 columns]"
      ]
     },
     "execution_count": 68,
     "metadata": {},
     "output_type": "execute_result"
    }
   ],
   "source": [
    "# Grouping the DataFrame by the 'First_Published' column and calculating the mean of 'Bing_Liu_Score' for each group\n",
    "df.groupby('First_Published').agg({'Bing_Liu_Score':'mean'})"
   ]
  }
 ],
 "metadata": {
  "kernelspec": {
   "display_name": "Python 3 (ipykernel)",
   "language": "python",
   "name": "python3"
  },
  "language_info": {
   "codemirror_mode": {
    "name": "ipython",
    "version": 3
   },
   "file_extension": ".py",
   "mimetype": "text/x-python",
   "name": "python",
   "nbconvert_exporter": "python",
   "pygments_lexer": "ipython3",
   "version": "3.11.5"
  }
 },
 "nbformat": 4,
 "nbformat_minor": 5
}
